{
 "cells": [
  {
   "cell_type": "code",
   "execution_count": 1,
   "metadata": {},
   "outputs": [],
   "source": [
    "import cv2\n",
    "import dlib\n",
    "import matplotlib\n",
    "import numpy as np\n",
    "import pandas as pd\n",
    "from matplotlib import pyplot as plt\n",
    "hog_face_detector = dlib.get_frontal_face_detector()\n",
    "dlib_facelandmark = dlib.shape_predictor(\"F:\\shape_predictor_68_face_landmarks.dat\")"
   ]
  },
  {
   "cell_type": "code",
   "execution_count": 6,
   "metadata": {},
   "outputs": [
    {
     "name": "stdout",
     "output_type": "stream",
     "text": [
      "frame capturing initiated\n"
     ]
    }
   ],
   "source": [
    "frame = cv2.VideoCapture(0)\n",
    "print('frame capturing initiated')"
   ]
  },
  {
   "cell_type": "code",
   "execution_count": null,
   "metadata": {},
   "outputs": [],
   "source": [
    "while True:\n",
    "    ret, img = frame.read()\n",
    "    gray = cv2.cvtColor(img, cv2.COLOR_BGR2GRAY)\n",
    "\n",
    "    faces = hog_face_detector(gray)\n",
    "    for face in faces:\n",
    "        x1=face.left()\n",
    "        y1=face.top()\n",
    "        x2=face.right()\n",
    "        y2=face.bottom()\n",
    "        face_img=cv2.rectangle(img, (x1,y1), (x2,y2),(0,255,0),2)\n",
    "        roi_color = face_img[y1:y2, x1:x2]\n",
    "        face_landmarks = dlib_facelandmark(gray, face)\n",
    "        \n",
    "        X1=face_landmarks.part(48).x\n",
    "        Y1=face_landmarks.part(33).y\n",
    "        X2=face_landmarks.part(54).x\n",
    "        Y2=face_landmarks.part(57).y\n",
    "       \n",
    "      \n",
    "        rec=cv2.rectangle(face_img,(X1,Y1),(X2,Y2),(0,255,0),2)\n",
    "        roi = face_img[Y1:Y2, X1:X2]\n",
    "        cv2.imshow('img',img)\n",
    "    if cv2.waitKey(1)& 0xff==ord('q'):\n",
    "  \n",
    "        break\n",
    "frame.release()\n",
    "cv2.destroyAllWindows()"
   ]
  },
  {
   "cell_type": "code",
   "execution_count": null,
   "metadata": {},
   "outputs": [],
   "source": []
  }
 ],
 "metadata": {
  "kernelspec": {
   "display_name": "Python 3",
   "language": "python",
   "name": "python3"
  },
  "language_info": {
   "codemirror_mode": {
    "name": "ipython",
    "version": 3
   },
   "file_extension": ".py",
   "mimetype": "text/x-python",
   "name": "python",
   "nbconvert_exporter": "python",
   "pygments_lexer": "ipython3",
   "version": "3.7.6"
  }
 },
 "nbformat": 4,
 "nbformat_minor": 4
}
